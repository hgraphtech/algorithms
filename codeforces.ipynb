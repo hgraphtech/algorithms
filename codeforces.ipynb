{
 "cells": [
  {
   "cell_type": "code",
   "execution_count": 2,
   "metadata": {},
   "outputs": [
    {
     "name": "stdout",
     "output_type": "stream",
     "text": [
      "98133\n",
      "0.015127897262573242\n"
     ]
    }
   ],
   "source": [
    "import random\n",
    "\n",
    "n = 1000\n",
    "c = [random.randrange(1,1000,1) for x in range(n)]\n",
    "c.insert(0,0)\n",
    "a = [random.randrange(1,1000,1) for x in range(n)]\n",
    "a.insert(0,0)\n",
    "\n",
    "\n",
    "start = time.time()\n",
    "\n",
    "cycles = []\n",
    "done = []\n",
    "term_cycles = []\n",
    "\n",
    "for i in range(1,n+1):\n",
    "    \n",
    "    if i not in done:\n",
    "\n",
    "        cycle = []\n",
    "        while i not in cycle and i not in done:\n",
    "            cycle.append(i)\n",
    "            done.append(i)\n",
    "            i = a[i]\n",
    "            \n",
    "            if i in cycle:\n",
    "                term = cycle[cycle.index(i):]\n",
    "                sol += min([c[j] for j in term])\n",
    "\n",
    "print(sol)\n",
    "print(time.time()-start)"
   ]
  },
  {
   "cell_type": "code",
   "execution_count": 47,
   "metadata": {},
   "outputs": [
    {
     "name": "stdout",
     "output_type": "stream",
     "text": [
      "nc 4880\n",
      "nc 6979\n",
      "nc 4335\n",
      "nc 4157\n",
      "nc 27\n",
      "nc 5593\n",
      "4183\n",
      "0.005300998687744141\n"
     ]
    }
   ],
   "source": [
    "import random\n",
    "import time\n",
    "\n",
    "n = 10000\n",
    "c = [random.randrange(1,10000,1) for x in range(n)]\n",
    "c.insert(0,0)\n",
    "a = [random.randrange(1,10000,1) for x in range(n)]\n",
    "a.insert(0,0)\n",
    "\n",
    "done = [0]*(n+1)\n",
    "start = time.time()\n",
    "sol=0\n",
    "c_i = 0\n",
    "\n",
    "for i in range(1,n+1):\n",
    "    c_i+=2\n",
    "    cost=0\n",
    "    \n",
    "    if done[i]!=0:\n",
    "        continue\n",
    "    \n",
    "    while done[i]==0:\n",
    "        done[i]=c_i\n",
    "        i=a[i]\n",
    "        \n",
    "    if done[i]==c_i:\n",
    "        # found a new cycle\n",
    "        print('nc',i)\n",
    "        cost = c[i]\n",
    "        while done[i]==c_i:\n",
    "            done[i]+=1\n",
    "            i=a[i]\n",
    "            if c[i]<cost:\n",
    "                cost=c[i]\n",
    "        \n",
    "    sol+=cost\n",
    "    \n",
    "print(sol)\n",
    "print(time.time()-start)\n",
    "\n"
   ]
  },
  {
   "cell_type": "code",
   "execution_count": 41,
   "metadata": {},
   "outputs": [
    {
     "data": {
      "text/plain": [
       "[0, 2, 3, 6, 8, 10, 11, 11]"
      ]
     },
     "execution_count": 41,
     "metadata": {},
     "output_type": "execute_result"
    }
   ],
   "source": [
    "done"
   ]
  },
  {
   "cell_type": "code",
   "execution_count": 7,
   "metadata": {},
   "outputs": [
    {
     "name": "stdout",
     "output_type": "stream",
     "text": [
      "8887\n",
      "0.006412982940673828\n"
     ]
    }
   ],
   "source": [
    "import random\n",
    "import time\n",
    "\n",
    "n = 1000\n",
    "c = [random.randrange(1,1000,1) for x in range(n)]\n",
    "c.insert(0,0)\n",
    "a = [random.randrange(1,1000,1) for x in range(n)]\n",
    "a.insert(0,0)\n",
    "done = [0]*(n+1)\n",
    "cycle = [0]*(n+1)\n",
    "\n",
    "\n",
    "start = time.time()\n",
    "\n",
    "sol = 0\n",
    "\n",
    "for i in range(1,n+1):\n",
    "    \n",
    "    if done[i]==1:\n",
    "        continue\n",
    "        \n",
    "    while cycle[i]<2 and done[i]==0:\n",
    "        cycle[i]+=1\n",
    "        done[i]=1\n",
    "        i = a[i]\n",
    "\n",
    "        if i in cycle:\n",
    "            term = cycle[cycle.index(i):]\n",
    "            sol += min([c[j] for j in term])\n",
    "\n",
    "print(sol)\n",
    "print(time.time()-start)"
   ]
  },
  {
   "cell_type": "code",
   "execution_count": 8,
   "metadata": {},
   "outputs": [
    {
     "name": "stdout",
     "output_type": "stream",
     "text": [
      "0\n",
      "0.9264931678771973\n"
     ]
    }
   ],
   "source": [
    "import random\n",
    "import time\n",
    "\n",
    "n = 10000\n",
    "c = [random.randrange(1,10000,1) for x in range(n)]\n",
    "c.insert(0,0)\n",
    "a = [random.randrange(1,10000,1) for x in range(n)]\n",
    "a.insert(0,0)\n",
    "done = [0]*(n+1)\n",
    "cycle = [0]*(n+1)\n",
    "\n",
    "start = time.time()\n",
    "\n",
    "sol = 0\n",
    "\n",
    "for i in range(1,n+1):\n",
    "    \n",
    "    if done[i]==1:\n",
    "        continue\n",
    "        \n",
    "    while cycle[i]==0 and done[i]==0:\n",
    "        cycle[i]=1\n",
    "        done[i]=1\n",
    "        i = a[i]\n",
    "\n",
    "        if i in cycle:\n",
    "            term = cycle[cycle.index(i):]\n",
    "            sol += min([c[j] for j in term])\n",
    "\n",
    "print(sol)\n",
    "print(time.time()-start)"
   ]
  },
  {
   "cell_type": "code",
   "execution_count": 52,
   "metadata": {},
   "outputs": [
    {
     "data": {
      "text/plain": [
       "[[2], [2], [2], [6, 7]]"
      ]
     },
     "execution_count": 52,
     "metadata": {},
     "output_type": "execute_result"
    }
   ],
   "source": [
    "term_cycles"
   ]
  },
  {
   "cell_type": "code",
   "execution_count": 42,
   "metadata": {},
   "outputs": [
    {
     "ename": "TypeError",
     "evalue": "unsupported operand type(s) for +: 'int' and 'list'",
     "output_type": "error",
     "traceback": [
      "\u001b[0;31m---------------------------------------------------------------------------\u001b[0m",
      "\u001b[0;31mTypeError\u001b[0m                                 Traceback (most recent call last)",
      "\u001b[0;32m<ipython-input-42-486ff48b74da>\u001b[0m in \u001b[0;36m<module>\u001b[0;34m\u001b[0m\n\u001b[1;32m      1\u001b[0m \u001b[0ma\u001b[0m \u001b[0;34m=\u001b[0m \u001b[0;34m[\u001b[0m\u001b[0;36m1\u001b[0m\u001b[0;34m,\u001b[0m\u001b[0;36m2\u001b[0m\u001b[0;34m,\u001b[0m\u001b[0;36m3\u001b[0m\u001b[0;34m,\u001b[0m\u001b[0;36m4\u001b[0m\u001b[0;34m]\u001b[0m\u001b[0;34m\u001b[0m\u001b[0;34m\u001b[0m\u001b[0m\n\u001b[0;32m----> 2\u001b[0;31m \u001b[0ma\u001b[0m \u001b[0;34m=\u001b[0m \u001b[0;36m0\u001b[0m \u001b[0;34m+\u001b[0m \u001b[0ma\u001b[0m\u001b[0;34m\u001b[0m\u001b[0;34m\u001b[0m\u001b[0m\n\u001b[0m\u001b[1;32m      3\u001b[0m \u001b[0ma\u001b[0m\u001b[0;34m\u001b[0m\u001b[0;34m\u001b[0m\u001b[0m\n",
      "\u001b[0;31mTypeError\u001b[0m: unsupported operand type(s) for +: 'int' and 'list'"
     ]
    }
   ],
   "source": [
    "a = [1,2,3,4]\n",
    "a = 0 + a\n",
    "a"
   ]
  },
  {
   "cell_type": "code",
   "execution_count": 18,
   "metadata": {},
   "outputs": [
    {
     "name": "stdout",
     "output_type": "stream",
     "text": [
      "0.0006349086761474609\n",
      "-1\n",
      "0.11821699142456055\n"
     ]
    }
   ],
   "source": [
    "import time\n",
    "digits = [\"1110111\", \"0010010\", \"1011101\", \"1011011\", \"0111010\", \"1101011\", \"1101111\", \"1010010\", \"1111111\", \"1111011\"]\n",
    "states = [\"1100011\", \"1010011\", \"0000111\", \"1110110\", \"0101011\", \"0111111\", \"1001111\", \"1000000\", \"1111011\", \"0111000\", \"1100011\", \"1010011\"]\n",
    "\n",
    "start = time.time()\n",
    "\n",
    "n = 12\n",
    "k = 10\n",
    "\n",
    "x = {}\n",
    "m = []\n",
    "\n",
    "for n_ in range(n):\n",
    "    \n",
    "    state = states[n_]\n",
    "\n",
    "    x[n_] = []\n",
    "    min_dist = 10\n",
    "    found_dist = []\n",
    "\n",
    "    for t in range(9,-1,-1):\n",
    "        \n",
    "        target = digits[t]\n",
    "\n",
    "        reachable = True\n",
    "        dist = 0\n",
    "        for i in range(7):\n",
    "            if state[i]==\"1\" and target[i]==\"0\":\n",
    "                reachable = False\n",
    "            if state[i]==\"0\" and target[i]==\"1\":\n",
    "                dist += 1\n",
    "                \n",
    "        if reachable==True and dist not in found_dist:\n",
    "            found_dist.append(dist)\n",
    "            x[n_].append([t,dist])\n",
    "            \n",
    "        if dist<min_dist:\n",
    "            min_dist = dist\n",
    "            \n",
    "    m.append(min_dist)\n",
    "\n",
    "print(time.time()-start)\n",
    "\n",
    "\"\"\"\n",
    "\n",
    "j = [0]*n\n",
    "k_ = k\n",
    "for i in range(n):\n",
    "    spare = k_ - sum(m[i:])\n",
    "\n",
    "\"\"\"\n",
    "\n",
    "# try a bf search\n",
    "\n",
    "j = [0]*n\n",
    "index = n-1\n",
    "\n",
    "while index>=0:\n",
    "    total = sum([x[i][j[i]][1] for i in range(n)])\n",
    "    if total==k:\n",
    "        s = [x[i][j[i]][0] for i in range(n)]\n",
    "        ss = ''\n",
    "        for z in s:\n",
    "            ss+=str(z)\n",
    "        print(ss)\n",
    "        break\n",
    "    reset = False\n",
    "    while j[index]==len(x[index])-1:\n",
    "        reset = True\n",
    "        index-=1\n",
    "        if index==-1:\n",
    "            print(-1)\n",
    "            break\n",
    "    \n",
    "    if index==-1:\n",
    "        break\n",
    "    j[index]+=1\n",
    "    if reset == True:\n",
    "        for z in range(index+1,n):\n",
    "            j[z]=0\n",
    "        index = n-1\n",
    "    \n",
    "\n",
    "print(time.time()-start)\n",
    "\n",
    "\n"
   ]
  },
  {
   "cell_type": "code",
   "execution_count": 19,
   "metadata": {},
   "outputs": [
    {
     "data": {
      "text/plain": [
       "({0: [[9, 2], [8, 3], [5, 1]],\n",
       "  1: [[9, 2], [8, 3], [3, 1]],\n",
       "  2: [[8, 4], [6, 3]],\n",
       "  3: [[8, 2], [0, 1]],\n",
       "  4: [[9, 2], [8, 3], [5, 1]],\n",
       "  5: [[8, 1]],\n",
       "  6: [[8, 2], [6, 1]],\n",
       "  7: [[9, 5], [8, 6], [7, 2], [5, 4]],\n",
       "  8: [[9, 0], [8, 1]],\n",
       "  9: [[9, 3], [8, 4], [4, 1]],\n",
       "  10: [[9, 2], [8, 3], [5, 1]],\n",
       "  11: [[9, 2], [8, 3], [3, 1]]},\n",
       " [1, 0, 1, 0, 1, 0, 1, 2, 0, 1, 1, 0])"
      ]
     },
     "execution_count": 19,
     "metadata": {},
     "output_type": "execute_result"
    }
   ],
   "source": [
    "x,m"
   ]
  },
  {
   "cell_type": "code",
   "execution_count": 14,
   "metadata": {},
   "outputs": [
    {
     "name": "stdout",
     "output_type": "stream",
     "text": [
      "11\n",
      "10\n",
      "9\n",
      "8\n",
      "7\n",
      "6\n",
      "5\n",
      "4\n",
      "3\n",
      "2\n",
      "1\n",
      "0\n",
      "{11: [2, 3, 1]}\n"
     ]
    }
   ],
   "source": [
    "e = {}\n",
    "e[n-1]=[x[n-1][j][1] for j in range(len(x[n-1]))]\n",
    "for n_ in range(n-1,-1,-1):\n",
    "    e[n_] = [x+y for x in range()]\n",
    "print(e)"
   ]
  },
  {
   "cell_type": "code",
   "execution_count": 17,
   "metadata": {},
   "outputs": [
    {
     "ename": "TypeError",
     "evalue": "'bool' object is not iterable",
     "output_type": "error",
     "traceback": [
      "\u001b[0;31m---------------------------------------------------------------------------\u001b[0m",
      "\u001b[0;31mTypeError\u001b[0m                                 Traceback (most recent call last)",
      "\u001b[0;32m<ipython-input-17-c2586826d1d5>\u001b[0m in \u001b[0;36m<module>\u001b[0;34m\u001b[0m\n\u001b[1;32m      2\u001b[0m \u001b[0mb\u001b[0m \u001b[0;34m=\u001b[0m \u001b[0;34m[\u001b[0m\u001b[0;36m2\u001b[0m\u001b[0;34m,\u001b[0m\u001b[0;36m3\u001b[0m\u001b[0;34m,\u001b[0m\u001b[0;36m4\u001b[0m\u001b[0;34m]\u001b[0m\u001b[0;34m\u001b[0m\u001b[0;34m\u001b[0m\u001b[0m\n\u001b[1;32m      3\u001b[0m \u001b[0;34m\u001b[0m\u001b[0m\n\u001b[0;32m----> 4\u001b[0;31m \u001b[0;34m[\u001b[0m\u001b[0mi\u001b[0m\u001b[0;34m+\u001b[0m\u001b[0;36m1\u001b[0m \u001b[0;32mfor\u001b[0m \u001b[0mi\u001b[0m \u001b[0;32min\u001b[0m \u001b[0ma\u001b[0m \u001b[0;32mand\u001b[0m \u001b[0mj\u001b[0m \u001b[0;32min\u001b[0m \u001b[0mb\u001b[0m\u001b[0;34m]\u001b[0m\u001b[0;34m\u001b[0m\u001b[0;34m\u001b[0m\u001b[0m\n\u001b[0m",
      "\u001b[0;31mTypeError\u001b[0m: 'bool' object is not iterable"
     ]
    }
   ],
   "source": [
    "a = [1,2,3]\n",
    "b = [2,3,4]\n",
    "\n",
    "[i+1 for i in a and j in b]\n"
   ]
  },
  {
   "cell_type": "code",
   "execution_count": 83,
   "metadata": {},
   "outputs": [
    {
     "data": {
      "text/plain": [
       "{0: [(True, 4),\n",
       "  (False, 2),\n",
       "  (False, 4),\n",
       "  (False, 4),\n",
       "  (False, 3),\n",
       "  (True, 3),\n",
       "  (True, 4),\n",
       "  (False, 3),\n",
       "  (True, 5),\n",
       "  (True, 4)],\n",
       " 1: [(False, 4),\n",
       "  (False, 2),\n",
       "  (True, 2),\n",
       "  (True, 2),\n",
       "  (False, 3),\n",
       "  (True, 2),\n",
       "  (True, 3),\n",
       "  (False, 2),\n",
       "  (True, 4),\n",
       "  (True, 3)],\n",
       " 2: [(True, 2),\n",
       "  (False, 0),\n",
       "  (False, 2),\n",
       "  (True, 1),\n",
       "  (False, 2),\n",
       "  (False, 2),\n",
       "  (False, 3),\n",
       "  (False, 0),\n",
       "  (True, 3),\n",
       "  (True, 2)]}"
      ]
     },
     "execution_count": 83,
     "metadata": {},
     "output_type": "execute_result"
    }
   ],
   "source": [
    "\n",
    "\n",
    "o = ''\n",
    "\n",
    "for n_ in range(n):\n",
    "    free = k-sum(m[n_+1:])\n",
    "    d = 0\n",
    "    c = 0\n",
    "    for d_ in range(10):\n",
    "        if x[n_][d_][0] == True and x[n_][d_][1]<=free:\n",
    "            d=d_\n",
    "            c=x[n_][d_][1]\n",
    "    o+=str(d)\n",
    "    k-=c\n",
    "\n",
    "print(o)\n",
    "    \n"
   ]
  },
  {
   "cell_type": "code",
   "execution_count": 59,
   "metadata": {},
   "outputs": [
    {
     "data": {
      "text/plain": [
       "'0b1100111'"
      ]
     },
     "execution_count": 59,
     "metadata": {},
     "output_type": "execute_result"
    }
   ],
   "source": [
    "a = 10\n",
    "b = 4\n",
    "c = 0b1110111\n",
    "d = 0b1100111\n",
    "bin(c&d)"
   ]
  },
  {
   "cell_type": "code",
   "execution_count": null,
   "metadata": {},
   "outputs": [],
   "source": []
  },
  {
   "cell_type": "code",
   "execution_count": 48,
   "metadata": {},
   "outputs": [
    {
     "name": "stdout",
     "output_type": "stream",
     "text": [
      "2\n",
      "1100\n",
      "0011\n",
      "1100\n",
      "0010\n"
     ]
    }
   ],
   "source": [
    "n,k = 4,7\n",
    "\n",
    "x = int(k/n)\n",
    "r = k - n*x\n",
    "\n",
    "if r==0:\n",
    "    print(0)\n",
    "    k = 0\n",
    "    for n_ in range(n):\n",
    "\n",
    "        if k+x<=n:\n",
    "            row = '0'*k+'1'*x+'0'*(n-k-x)\n",
    "        if k+x>n:\n",
    "            row = '1'*(k+x-n)+'0'*(n-x)+'1'*(n-k)\n",
    "        print(row)\n",
    "        k+=x\n",
    "        if k>n:\n",
    "            k-=n\n",
    "\n",
    "else:\n",
    "    print(2)\n",
    "    x+=1\n",
    "    k = 0\n",
    "    for n_ in range(n):\n",
    "\n",
    "        if k+x<=n:\n",
    "            row = '0'*k+'1'*x+'0'*(n-k-x)\n",
    "        if k+x>n:\n",
    "            row = '1'*(k+x-n)+'0'*(n-x)+'1'*(n-k)\n",
    "        print(row)\n",
    "        k+=x\n",
    "        if k>n:\n",
    "            k-=n\n",
    "        r-=1\n",
    "        if r==0:\n",
    "            x-=1\n",
    "\n",
    "\n"
   ]
  },
  {
   "cell_type": "code",
   "execution_count": null,
   "metadata": {},
   "outputs": [],
   "source": []
  },
  {
   "cell_type": "code",
   "execution_count": 49,
   "metadata": {},
   "outputs": [
    {
     "data": {
      "text/plain": [
       "5"
      ]
     },
     "execution_count": 49,
     "metadata": {},
     "output_type": "execute_result"
    }
   ],
   "source": [
    "15 % 10"
   ]
  },
  {
   "cell_type": "code",
   "execution_count": 28,
   "metadata": {},
   "outputs": [
    {
     "data": {
      "text/plain": [
       "'0'"
      ]
     },
     "execution_count": 28,
     "metadata": {},
     "output_type": "execute_result"
    }
   ],
   "source": [
    "row = '0000'\n",
    "row[3]\n",
    "\n",
    "\n",
    "\n"
   ]
  },
  {
   "cell_type": "code",
   "execution_count": 60,
   "metadata": {},
   "outputs": [
    {
     "name": "stdout",
     "output_type": "stream",
     "text": [
      "0\n",
      "1111\n",
      "1111\n",
      "1111\n",
      "1111\n"
     ]
    }
   ],
   "source": [
    "n,k = 4,16\n",
    "b = int(k/n)\n",
    "r = int(n/b)\n",
    "remain = k-n*b\n",
    "\n",
    "if remain==0:\n",
    "    print(0)\n",
    "\n",
    "    # quick fill\n",
    "    for i in range(r):\n",
    "        for j in range(b):\n",
    "            print('0'*i*b+'1'*b+'0'*(n-b*(i+1)))    \n",
    "    \n",
    "else:\n",
    "    print(2)\n",
    "\n",
    "    \n",
    "\n",
    "    # quick fill\n",
    "    for i in range(r):\n",
    "        for j in range(b):\n",
    "            print('0'*i*b+'1'*b+'0'*(n-b*(i+1)))\n",
    "\n",
    "    remain = n-r*b\n",
    "    if remain>0:\n",
    "        for z in range(remain):\n",
    "            print('0'*(n-remain)+'1'*remain)\n",
    "    \n",
    "    \n",
    "\n"
   ]
  },
  {
   "cell_type": "code",
   "execution_count": 12,
   "metadata": {},
   "outputs": [
    {
     "name": "stdout",
     "output_type": "stream",
     "text": [
      "[[1, 0, 0], [1, 1, 0], [0, 1, 1]]\n"
     ]
    }
   ],
   "source": [
    "\n",
    "\n",
    "\n",
    "\n",
    "col_count = [0]*n\n",
    "grid = []\n",
    "for r in range(n):\n",
    "    row = [0]*n\n",
    "    i = 0\n",
    "    \n",
    "    \n",
    "    \n",
    "\n",
    "\n",
    "\n"
   ]
  },
  {
   "cell_type": "code",
   "execution_count": null,
   "metadata": {},
   "outputs": [],
   "source": [
    "\n",
    "\n",
    "\n",
    "\n",
    "\n"
   ]
  },
  {
   "cell_type": "code",
   "execution_count": 7,
   "metadata": {},
   "outputs": [
    {
     "name": "stdout",
     "output_type": "stream",
     "text": [
      "1000000 2.114145040512085\n"
     ]
    }
   ],
   "source": [
    "import time\n",
    "\n",
    "t= 1000000\n",
    "n = 2\n",
    "nlist = ['360757931684 186119101678','484141693549 675563431537']\n",
    "\n",
    "start = time.time()\n",
    "\n",
    "for t_ in range(t):\n",
    "    cost = 0\n",
    "    entry = 100000000000000\n",
    "    firsta = 0\n",
    "    lastb = 0\n",
    "\n",
    "    for n_ in range(n):\n",
    "        a,b = map(int,nlist[n_].split())\n",
    "        if n_==0:\n",
    "            firsta = a\n",
    "            lastb = b\n",
    "        else:\n",
    "            if a>lastb:\n",
    "                cost+=a-lastb\n",
    "                ent = lastb\n",
    "            else:\n",
    "                ent = a\n",
    "            if ent<entry:\n",
    "                entry=ent\n",
    "            lastb=b\n",
    "    \n",
    "    a = firsta\n",
    "    if a>lastb:\n",
    "        cost+=a-lastb\n",
    "        ent = lastb\n",
    "    else:\n",
    "        ent = a\n",
    "    if ent<entry:\n",
    "        entry=ent\n",
    "    lastb=b\n",
    "    \n",
    "    #print(cost+entry)\n",
    "\n",
    "\n",
    "print(t,time.time()-start)\n",
    "\n",
    "\n"
   ]
  },
  {
   "cell_type": "code",
   "execution_count": null,
   "metadata": {},
   "outputs": [],
   "source": [
    "\n",
    "\n",
    "\n",
    "\n",
    "\n"
   ]
  },
  {
   "cell_type": "code",
   "execution_count": null,
   "metadata": {},
   "outputs": [],
   "source": [
    "\n",
    "\n",
    "\n",
    "\n",
    "\n",
    "\n"
   ]
  },
  {
   "cell_type": "code",
   "execution_count": null,
   "metadata": {},
   "outputs": [],
   "source": [
    "\n",
    "\n",
    "\n",
    "\n",
    "\n",
    "\n"
   ]
  },
  {
   "cell_type": "code",
   "execution_count": 156,
   "metadata": {},
   "outputs": [],
   "source": [
    "n,k = 8,4\n",
    "books = [\n",
    "[7,1,1],\n",
    "[2,1,1],\n",
    "[4,0,1],\n",
    "[8,1,1],\n",
    "[1,0,1],\n",
    "[1,1,1],\n",
    "[1,0,1]\n",
    "]\n",
    "\n"
   ]
  },
  {
   "cell_type": "code",
   "execution_count": 160,
   "metadata": {},
   "outputs": [],
   "source": [
    "a=[]\n",
    "a.append(3)\n",
    "a.append(1)\n",
    "a.sort()"
   ]
  },
  {
   "cell_type": "code",
   "execution_count": 161,
   "metadata": {},
   "outputs": [
    {
     "data": {
      "text/plain": [
       "[1, 3]"
      ]
     },
     "execution_count": 161,
     "metadata": {},
     "output_type": "execute_result"
    }
   ],
   "source": [
    "a"
   ]
  },
  {
   "cell_type": "code",
   "execution_count": 157,
   "metadata": {},
   "outputs": [],
   "source": [
    "a = sum([x[1] for x in books])\n",
    "b = sum([x[1] for x in books])\n",
    "if a<k or b<k:\n",
    "    print(-1)\n",
    "    \n",
    "# algo\n",
    "# want to sort, pair 0,1 & 1,0 then pick top k of list\n",
    "\n",
    "books_both = [book for book in books if (book[1]==1 and book[2]==1)]\n",
    "books_a = [book for book in books if (book[1]==1 and book[2]==0)]\n",
    "books_b = [book for book in books if (book[1]==0 and book[2]==1)]\n",
    "books_a.sort(key=lambda x:x[0])\n",
    "books_b.sort(key=lambda x:x[0])\n",
    "\n",
    "i=0\n",
    "while len(books_a)>i and len(books_b)>i:\n",
    "    a = books_a[i]\n",
    "    b = books_b[i]\n",
    "    new_book = [a[0]+b[0],1,1]\n",
    "    books_both.append(new_book)\n",
    "    i+=1\n",
    "\n",
    "books_both.sort(key=lambda x:x[0])\n",
    "ans = sum([book[0] for book in books_both[:k]])\n",
    "print(ans)"
   ]
  },
  {
   "cell_type": "code",
   "execution_count": 158,
   "metadata": {},
   "outputs": [
    {
     "data": {
      "text/plain": [
       "18"
      ]
     },
     "execution_count": 158,
     "metadata": {},
     "output_type": "execute_result"
    }
   ],
   "source": [
    "ans"
   ]
  },
  {
   "cell_type": "code",
   "execution_count": 139,
   "metadata": {},
   "outputs": [],
   "source": []
  },
  {
   "cell_type": "code",
   "execution_count": 140,
   "metadata": {},
   "outputs": [
    {
     "data": {
      "text/plain": [
       "[[7, 1, 1], [2, 1, 1], [8, 1, 1], [1, 1, 1], [2, 1, 1]]"
      ]
     },
     "execution_count": 140,
     "metadata": {},
     "output_type": "execute_result"
    }
   ],
   "source": [
    "books_both"
   ]
  },
  {
   "cell_type": "code",
   "execution_count": null,
   "metadata": {},
   "outputs": [],
   "source": [
    "b\n",
    "\n",
    "\n",
    "books.sort(key=lambda x:x[2])\n",
    "books\n",
    "\n",
    "    \n",
    "    \n",
    "    "
   ]
  },
  {
   "cell_type": "code",
   "execution_count": 53,
   "metadata": {},
   "outputs": [],
   "source": [
    "def paths(x,y):\n",
    "    g = [[0]*y]*x\n",
    "    for i in range(x):\n",
    "        for j in range(y):\n",
    "            if i==0 or j==0:\n",
    "                g[i][j]=1\n",
    "            else:\n",
    "                g[i][j]=g[i-1][j]+g[i][j-1]\n",
    "                \n",
    "    return g[x-1][y-1]\n",
    "\n",
    "        \n",
    "    \n",
    "\n",
    "\n"
   ]
  },
  {
   "cell_type": "code",
   "execution_count": null,
   "metadata": {},
   "outputs": [],
   "source": []
  },
  {
   "cell_type": "code",
   "execution_count": 76,
   "metadata": {},
   "outputs": [],
   "source": [
    "def p(x,y):\n",
    "    if x==0 or y==0:\n",
    "        return 1\n",
    "    else:\n",
    "        return(p(x-1,y)+p(x-1,y-1))\n",
    "        "
   ]
  },
  {
   "cell_type": "code",
   "execution_count": 79,
   "metadata": {},
   "outputs": [],
   "source": [
    "def s(x,y):\n",
    "    if x==0 or y==0:\n",
    "        return 1\n",
    "    else:\n",
    "        total = 0\n",
    "        y_=y\n",
    "        while y_>=0:\n",
    "            total+=p(x,y_)\n",
    "            y_-=2\n",
    "        return total"
   ]
  },
  {
   "cell_type": "code",
   "execution_count": 87,
   "metadata": {},
   "outputs": [
    {
     "data": {
      "text/plain": [
       "11"
      ]
     },
     "execution_count": 87,
     "metadata": {},
     "output_type": "execute_result"
    }
   ],
   "source": [
    "s(2,5)"
   ]
  },
  {
   "cell_type": "code",
   "execution_count": 13,
   "metadata": {},
   "outputs": [
    {
     "data": {
      "text/plain": [
       "[[0, 0, 0, 0, 0, 0, 0, 0, 0, 0],\n",
       " [0, 0, 0, 0, 0, 0, 0, 0, 0, 0],\n",
       " [0, 0, 0, 0, 0, 0, 0, 0, 0, 0],\n",
       " [0, 0, 0, 0, 0, 0, 0, 0, 0, 0]]"
      ]
     },
     "execution_count": 13,
     "metadata": {},
     "output_type": "execute_result"
    }
   ],
   "source": [
    "r = [0]*10\n",
    "[r] * 4"
   ]
  },
  {
   "cell_type": "code",
   "execution_count": 1,
   "metadata": {},
   "outputs": [],
   "source": [
    "def substrings(s):\n",
    "    ss = []\n",
    "    n = len(s)\n",
    "    for i in range(n+1):\n",
    "        for j in range(i+1,n+1):\n",
    "            ss.append(s[i:j])\n",
    "    return ss\n",
    "    \n",
    "def leftshift(s):\n",
    "    return s[1:]+s[0]\n",
    "def rightshift(s):\n",
    "    return s[-1]+s[:-1]"
   ]
  },
  {
   "cell_type": "code",
   "execution_count": null,
   "metadata": {},
   "outputs": [],
   "source": []
  },
  {
   "cell_type": "code",
   "execution_count": 16,
   "metadata": {},
   "outputs": [
    {
     "name": "stdout",
     "output_type": "stream",
     "text": [
      "100 0.1794569492340088 0.017945694923400878\n",
      "200 0.0185091495513916 0.00046272873878479005\n",
      "300 0.13958406448364258 0.0015509340498182508\n",
      "400 0.33676791191101074 0.0021047994494438173\n",
      "500 0.5255670547485352 0.0021022682189941405\n",
      "600 1.1552960872650146 0.003209155797958374\n",
      "1000 5.527443885803223 0.005527443885803222\n"
     ]
    }
   ],
   "source": [
    "alphabet='abcdefghijklmnopqrstuvwxyz'\n",
    "alph = alphabet.split()\n",
    "import time\n",
    "import random\n",
    "for n in [100,200,300,400,500,600,1000]:\n",
    "    x=[random.choice(alph) for n_ in range(n)]\n",
    "    start=time.time()\n",
    "    strs=substrings(x)\n",
    "    t = time.time()-start\n",
    "    c=1000\n",
    "    print(n,t,c*t/n**2)\n",
    "\n",
    "# O(n^2) algo\n",
    "# 1m operations -> 5 sec (cpu is 2.5x10^9 hz)"
   ]
  },
  {
   "cell_type": "code",
   "execution_count": 81,
   "metadata": {},
   "outputs": [],
   "source": [
    "# problem is equivalent to find longest substring of the form abababab etc\n",
    "\n",
    "def solve(s):\n",
    "\n",
    "    n = len(s)\n",
    "\n",
    "    b_sd = n - max([s.count(str(d)) for d in range(10)])\n",
    "\n",
    "    best = 0\n",
    "    strings = {}\n",
    "    for i in range(n-1):\n",
    "        if s[i]!=s[i+1]:\n",
    "            ss = s[i]+s[i+1]\n",
    "            if ss in strings:\n",
    "                strings[ss]+=1            \n",
    "            else:\n",
    "                strings[ss]=1\n",
    "            if strings[ss]>best:\n",
    "                best=strings[ss]\n",
    "\n",
    "    b_dd = n-best*2\n",
    "\n",
    "    return min(b_sd,b_dd)"
   ]
  },
  {
   "cell_type": "code",
   "execution_count": 111,
   "metadata": {},
   "outputs": [
    {
     "name": "stdout",
     "output_type": "stream",
     "text": [
      "5\n"
     ]
    }
   ],
   "source": [
    "s = '100120013'\n",
    "best = 0\n",
    "for a in range(10):\n",
    "    for b in range(10):\n",
    "        c = 0\n",
    "        state = 0\n",
    "        for n in range(len(s)):\n",
    "            if s[n]==str(a) and state==0:\n",
    "                c+=1\n",
    "                state=1\n",
    "            elif s[n]==str(b) and state==1:\n",
    "                c+=1\n",
    "                state=0\n",
    "        if a!=b and state==1:\n",
    "            c-=1\n",
    "        if c>best:\n",
    "            best=c\n",
    "print(len(s)-best)\n",
    "        \n",
    "                \n",
    "        "
   ]
  },
  {
   "cell_type": "code",
   "execution_count": null,
   "metadata": {},
   "outputs": [],
   "source": [
    "s[0]"
   ]
  },
  {
   "cell_type": "code",
   "execution_count": 92,
   "metadata": {},
   "outputs": [
    {
     "name": "stdout",
     "output_type": "stream",
     "text": [
      "129 138\n"
     ]
    }
   ],
   "source": [
    "s='0135785152174082012097654604938957981703096740171424318330885652765893707675593434217828455171007143914259658511312169208710262035594955071894747649'\n",
    "n = len(s)\n",
    "\n",
    "b_sd = n - max([s.count(str(d)) for d in range(10)])\n",
    "\n",
    "best = 0\n",
    "strings = {}\n",
    "for i in range(n-1):\n",
    "    if s[i]!=s[i+1]:\n",
    "        ss = s[i]+s[i+1]\n",
    "        if ss in strings:\n",
    "            strings[ss]+=1            \n",
    "        else:\n",
    "            strings[ss]=1\n",
    "        if strings[ss]>best:\n",
    "            best=strings[ss]\n",
    "\n",
    "b_dd = n-best*2\n",
    "\n",
    "print(b_sd,b_dd)"
   ]
  },
  {
   "cell_type": "code",
   "execution_count": 94,
   "metadata": {},
   "outputs": [
    {
     "data": {
      "text/plain": [
       "5"
      ]
     },
     "execution_count": 94,
     "metadata": {},
     "output_type": "execute_result"
    }
   ],
   "source": [
    "max(strings[s] for s in strings)"
   ]
  },
  {
   "cell_type": "code",
   "execution_count": 95,
   "metadata": {},
   "outputs": [
    {
     "data": {
      "text/plain": [
       "19"
      ]
     },
     "execution_count": 95,
     "metadata": {},
     "output_type": "execute_result"
    }
   ],
   "source": [
    "max([s.count(str(d)) for d in range(10)])"
   ]
  },
  {
   "cell_type": "code",
   "execution_count": 96,
   "metadata": {},
   "outputs": [
    {
     "data": {
      "text/plain": [
       "148"
      ]
     },
     "execution_count": 96,
     "metadata": {},
     "output_type": "execute_result"
    }
   ],
   "source": [
    "len(s)"
   ]
  },
  {
   "cell_type": "code",
   "execution_count": 82,
   "metadata": {},
   "outputs": [
    {
     "name": "stdout",
     "output_type": "stream",
     "text": [
      "100 3.790855407714844e-05\n",
      "1000 0.0004317760467529297\n",
      "10000 0.002214193344116211\n"
     ]
    }
   ],
   "source": [
    "alphabet='1234567890'\n",
    "alph = alphabet.split()\n",
    "import time\n",
    "import random\n",
    "for n in [100,1000,10000]:\n",
    "    x=[random.choice(alph) for n_ in range(n)]\n",
    "    start=time.time()\n",
    "    strs=solve(x)\n",
    "    t = time.time()-start\n",
    "    c=1000\n",
    "    print(n,t)"
   ]
  },
  {
   "cell_type": "code",
   "execution_count": null,
   "metadata": {},
   "outputs": [],
   "source": []
  },
  {
   "cell_type": "code",
   "execution_count": null,
   "metadata": {},
   "outputs": [],
   "source": [
    "n = 5\n",
    "a = [4,3,2,4,3]\n",
    "\n"
   ]
  },
  {
   "cell_type": "code",
   "execution_count": null,
   "metadata": {},
   "outputs": [],
   "source": [
    "if len(a)==1:\n",
    "    print('T')\n",
    "if len(a)==2:\n",
    "    if a[0]==a[1]:\n",
    "        print('HL')\n",
    "    else:\n",
    "        print('T')\n",
    "if len(a)>=3:\n",
    "    if sum(a)%2==1:\n",
    "        print('T')\n",
    "    else:\n",
    "        print('HL')\n",
    "\n",
    "\n"
   ]
  },
  {
   "cell_type": "code",
   "execution_count": null,
   "metadata": {},
   "outputs": [],
   "source": [
    "\n",
    "    "
   ]
  },
  {
   "cell_type": "code",
   "execution_count": 97,
   "metadata": {},
   "outputs": [
    {
     "data": {
      "text/plain": [
       "1"
      ]
     },
     "execution_count": 97,
     "metadata": {},
     "output_type": "execute_result"
    }
   ],
   "source": [
    "a = [1,2,3]\n",
    "a.index(2)"
   ]
  },
  {
   "cell_type": "code",
   "execution_count": 94,
   "metadata": {},
   "outputs": [
    {
     "data": {
      "text/plain": [
       "[1, 1, 2, 1]"
      ]
     },
     "execution_count": 94,
     "metadata": {},
     "output_type": "execute_result"
    }
   ],
   "source": [
    "n = 2\n",
    "at = '1 1 2 1'\n",
    "a = [int(x) for x in at.split()]\n",
    "a"
   ]
  },
  {
   "cell_type": "code",
   "execution_count": 96,
   "metadata": {},
   "outputs": [
    {
     "name": "stdout",
     "output_type": "stream",
     "text": [
      "2\n"
     ]
    }
   ],
   "source": [
    "count = a.count(2)-a.count(1)\n",
    "\n",
    "if count==0:\n",
    "    print(0)\n",
    "    \n",
    "if count<0:\n",
    "    # more 1s than 2s\n",
    "    # trying to find 1s\n",
    "    \n",
    "    target = -count\n",
    "    \n",
    "    lc = 0\n",
    "    blc = 0\n",
    "    ll = []\n",
    "    rc = 0\n",
    "    brc = 0\n",
    "    rl = []\n",
    "    i = 0 \n",
    "    lim = n\n",
    "    found = False\n",
    "    while i<lim:\n",
    "        i+=1\n",
    "        if a[n-i]==1:\n",
    "            lc += 1\n",
    "        else:\n",
    "            lc -= 1\n",
    "        if lc>blc:\n",
    "            blc=lc\n",
    "            ll.append(i)\n",
    "        if a[n-1+i]==1:\n",
    "            rc += 1\n",
    "        else:\n",
    "            rc -= 1\n",
    "        if rc>brc:\n",
    "            brc=rc\n",
    "            rl.append(i)\n",
    "        if blc+brc>=target:\n",
    "            found = True\n",
    "            # set lim to only go as far as needed\n",
    "\n",
    "    best = 1000000\n",
    "    if len(ll)>target-1:\n",
    "        dist = ll[target-1]\n",
    "    if dist<best:\n",
    "        best=dist\n",
    "    if len(rl)>target-1:\n",
    "        dist = rl[target-1]\n",
    "    if dist<best:\n",
    "        best=dist\n",
    "    for i in range(target):\n",
    "        if len(ll)>i and len(rl)>target-i-2 and target-i-2>=0:\n",
    "            dist = ll[i] + rl[target-i-2]\n",
    "    if dist<best:\n",
    "        best=dist\n",
    "        \n",
    "    print(best)\n",
    "   \n",
    "if count>0:\n",
    "    # more 2s than 1s\n",
    "    # trying to find 2s\n",
    "    \n",
    "    target = count\n",
    "    \n",
    "    lc = 0\n",
    "    blc = 0\n",
    "    ll = []\n",
    "    rc = 0\n",
    "    brc = 0\n",
    "    rl = []\n",
    "    i = 0 \n",
    "    lim = n\n",
    "    found = False\n",
    "    while i<lim:\n",
    "        i+=1\n",
    "        if a[n-i]==2:\n",
    "            lc += 1\n",
    "        else:\n",
    "            lc -= 1\n",
    "        if lc>blc:\n",
    "            blc=lc\n",
    "            ll.append(i)\n",
    "        if a[n-1+i]==2:\n",
    "            rc += 1\n",
    "        else:\n",
    "            rc -= 1\n",
    "        if rc>brc:\n",
    "            brc=rc\n",
    "            rl.append(i)\n",
    "        if blc+brc>=target:\n",
    "            found = True\n",
    "            # set lim to only go as far as needed\n",
    "\n",
    "    best = 1000000\n",
    "    if len(ll)>target-1:\n",
    "        dist = ll[target-1]\n",
    "    if dist<best:\n",
    "        best=dist\n",
    "    if len(rl)>target-1:\n",
    "        dist = rl[target-1]\n",
    "    if dist<best:\n",
    "        best=dist\n",
    "    for i in range(target):\n",
    "        if len(ll)>i and len(rl)>target-i-2 and target-i-2>=0:\n",
    "            dist = ll[i] + rl[target-i-2]\n",
    "    if dist<best:\n",
    "        best=dist\n",
    "        \n",
    "    print(best)\n",
    "        \n",
    "    "
   ]
  },
  {
   "cell_type": "code",
   "execution_count": 93,
   "metadata": {},
   "outputs": [
    {
     "data": {
      "text/plain": [
       "([1, 2], [], 2)"
      ]
     },
     "execution_count": 93,
     "metadata": {},
     "output_type": "execute_result"
    }
   ],
   "source": [
    "ll,rl,target"
   ]
  },
  {
   "cell_type": "code",
   "execution_count": null,
   "metadata": {},
   "outputs": [],
   "source": [
    "\n",
    "# brute force\n",
    "\n",
    "best = 2*n\n",
    "\n",
    "for w in range(0,2*n):\n",
    "    for s in range(n,max(n-w,0),-1):   \n",
    "        if av[:s].count(1)+av[s+w:].count(1)==av[:s].count(2)+av[s+w:].count(2):\n",
    "            print(width)\n",
    "            break\n",
    "\n"
   ]
  },
  {
   "cell_type": "code",
   "execution_count": 139,
   "metadata": {},
   "outputs": [
    {
     "name": "stdout",
     "output_type": "stream",
     "text": [
      "2000\n",
      "9.340153932571411\n"
     ]
    }
   ],
   "source": [
    "import time\n",
    "n = 1000\n",
    "a = '1 '*2000\n",
    "av = [int(x) for x in a.split()]\n",
    "\n",
    "start=time.time()\n",
    "\n",
    "found = False\n",
    "for w in range(0,2*n+1,2):\n",
    "    for s in range(max(n-w,0),min(n+1,2*n-w+1)):\n",
    "        if av[:s].count(1)+av[s+w:].count(1)==av[:s].count(2)+av[s+w:].count(2):\n",
    "            found=True\n",
    "            print(w)\n",
    "            break\n",
    "    if found==True:\n",
    "        break\n",
    "\n",
    "print(time.time()-start)"
   ]
  },
  {
   "cell_type": "code",
   "execution_count": null,
   "metadata": {},
   "outputs": [],
   "source": []
  },
  {
   "cell_type": "code",
   "execution_count": 62,
   "metadata": {},
   "outputs": [],
   "source": [
    "n,m=5,5\n",
    "r=[[0,9,2,7,0],[9,0,3,0,5],[0,8,0,3,1],[6,7,4,3,9],[3,6,4,1,0]]\n",
    "row_sums = [sum(row) for row in r]\n",
    "col_sums = [sum([r[i][j] for i in range(n)]) for j in range(m)]\n",
    "\n",
    "# try direct soln:\n",
    "max_row = max(row_sums)\n",
    "max_col = max(col_sums)\n",
    "\n",
    "if max_row>max_col\n",
    "   row_sums.index(max_row)\n",
    "\n"
   ]
  },
  {
   "cell_type": "code",
   "execution_count": 66,
   "metadata": {},
   "outputs": [
    {
     "name": "stdout",
     "output_type": "stream",
     "text": [
      "[18, 17, 12, 29, 14] [18, 30, 13, 14, 15]\n"
     ]
    }
   ],
   "source": [
    "print(row_sums,col_sums)\n",
    "\n"
   ]
  },
  {
   "cell_type": "code",
   "execution_count": 43,
   "metadata": {},
   "outputs": [
    {
     "name": "stdout",
     "output_type": "stream",
     "text": [
      "z z 0 1\n",
      "xz x 0 2\n",
      "xz z 1 2\n",
      "xzy y 2 3\n",
      "xzyt t 3 4\n",
      "xzyt y 2 4\n",
      "xzyt z 1 4\n",
      "xzytabcdefghijklmnopqrsuvw\n"
     ]
    }
   ],
   "source": [
    "t = 5\n",
    "s = 'zxzytyz'\n",
    "keys = 'abcdefghijklmnopqrstuvwxyz'\n",
    "k = ''\n",
    "\n",
    "for x in s:\n",
    "    ok = False\n",
    "    if k=='':\n",
    "        k+=x\n",
    "        i=0\n",
    "        ok = True\n",
    "    else:\n",
    "        if x not in k:\n",
    "            if i==0:\n",
    "                k=x+k\n",
    "                i=0\n",
    "                ok = True\n",
    "            elif i==len(k)-1:\n",
    "                k=k+x\n",
    "                i+=1\n",
    "                ok = True\n",
    "        else:\n",
    "            if i>0:\n",
    "                if k[i-1]==x:\n",
    "                    i-=1\n",
    "                    ok = True\n",
    "            if i<len(k):\n",
    "                if k[i+1]==x:\n",
    "                    i+=1\n",
    "                    ok = True\n",
    "    print(k,x,i,len(k))\n",
    "    if ok == False:\n",
    "        print('NO')\n",
    "        break\n",
    "        \n",
    "if ok == True:\n",
    "    for x in keys:\n",
    "        if x not in k:\n",
    "            k+=x\n",
    "    print(k)\n",
    "    \n"
   ]
  },
  {
   "cell_type": "code",
   "execution_count": 29,
   "metadata": {},
   "outputs": [
    {
     "data": {
      "text/plain": [
       "True"
      ]
     },
     "execution_count": 29,
     "metadata": {},
     "output_type": "execute_result"
    }
   ],
   "source": [
    "t = 'abcd'\n",
    "'a' in t"
   ]
  },
  {
   "cell_type": "code",
   "execution_count": 24,
   "metadata": {},
   "outputs": [
    {
     "data": {
      "text/plain": [
       "['a', 'b']"
      ]
     },
     "execution_count": 24,
     "metadata": {},
     "output_type": "execute_result"
    }
   ],
   "source": [
    "sorted(('b','a'))"
   ]
  },
  {
   "cell_type": "code",
   "execution_count": null,
   "metadata": {},
   "outputs": [],
   "source": []
  },
  {
   "cell_type": "code",
   "execution_count": 29,
   "metadata": {},
   "outputs": [
    {
     "data": {
      "text/plain": [
       "35"
      ]
     },
     "execution_count": 29,
     "metadata": {},
     "output_type": "execute_result"
    }
   ],
   "source": [
    "import random\n",
    "import time\n",
    "a = [random.choice([0,1]) for x in range(35)]\n",
    "len(a)"
   ]
  },
  {
   "cell_type": "code",
   "execution_count": 20,
   "metadata": {},
   "outputs": [
    {
     "name": "stdout",
     "output_type": "stream",
     "text": [
      "2\n"
     ]
    }
   ],
   "source": [
    "# keep score and last 2 at each step\n",
    "# transition table:\n",
    "# 10 & 0 -> 00\n",
    "# 00 & 1 -> 01\n",
    "# 10 & 1 -> 01\n",
    "# 01 & 0 -> 10\n",
    "# 11 & 0 -> 10\n",
    "# 01 & 1 -> 11\n",
    "\n",
    "\n",
    "n = 8\n",
    "a = [1,0,1,1,0,1,1,1]\n",
    "\n",
    "if len(a)<=3:\n",
    "    print(a[0])\n",
    "    \n",
    "else:\n",
    "\n",
    "\n",
    "    s={}\n",
    "    ns={}\n",
    "\n",
    "    s['00']=10\n",
    "    s['01']=10\n",
    "    s['10']=a[0]\n",
    "    s['11']=a[0]+a[1]\n",
    "\n",
    "    for i in range(2,n):\n",
    "\n",
    "        ns['00']=s['10']\n",
    "        ns['01']=min(s['00']+a[i],s['10']+a[i])\n",
    "        ns['10']=min(s['01'],s['11'])\n",
    "        ns['11']=s['01']+a[i]\n",
    "\n",
    "        s['00'],s['01'],s['10'],s['11'] = ns['00'],ns['01'],ns['10'],ns['11']\n",
    "\n",
    "    print(min(s['00'],s['01'],s['10'],s['11']))\n",
    "\n"
   ]
  },
  {
   "cell_type": "code",
   "execution_count": 23,
   "metadata": {},
   "outputs": [
    {
     "name": "stdout",
     "output_type": "stream",
     "text": [
      "2\n"
     ]
    }
   ],
   "source": [
    "\n",
    "n = 8\n",
    "a = [1,0,1,1,0,1,1,1]\n",
    "\n",
    "x,y,z,w = 10,10,a[0],a[0]+a[1]\n",
    "if len(a)<=3:\n",
    "    print(z)\n",
    "else:\n",
    "    for i in range(2,n):\n",
    "        x,y,z,w = z, min(x,z)+a[i], min(y,w), y+a[i]\n",
    "\n",
    "    print(min(x,y,z,w))\n",
    "\n"
   ]
  },
  {
   "cell_type": "code",
   "execution_count": null,
   "metadata": {},
   "outputs": [],
   "source": []
  },
  {
   "cell_type": "code",
   "execution_count": null,
   "metadata": {},
   "outputs": [],
   "source": []
  },
  {
   "cell_type": "code",
   "execution_count": 11,
   "metadata": {},
   "outputs": [
    {
     "data": {
      "text/plain": [
       "{'00': 1, '01': 1, '10': 1, '11': 2}"
      ]
     },
     "execution_count": 11,
     "metadata": {},
     "output_type": "execute_result"
    }
   ],
   "source": [
    "s"
   ]
  },
  {
   "cell_type": "code",
   "execution_count": 6,
   "metadata": {},
   "outputs": [
    {
     "name": "stdout",
     "output_type": "stream",
     "text": [
      "2\n"
     ]
    }
   ],
   "source": [
    "# try this\n",
    "# if 1 go if can, if not f\n",
    "# if 0 f if can, if not y\n",
    "\n",
    "n = 8\n",
    "a = [1,0,1,1,0,1,1,1]\n",
    "s = []\n",
    "score = 0\n",
    "\n",
    "for n_ in range(n):\n",
    "    if n_==0:\n",
    "        move = 1\n",
    "        if a[0]==1:\n",
    "            score+=1\n",
    "    if n_==1:\n",
    "        move = 0 if a[n_]==1 else 1\n",
    "    if n_>1:\n",
    "        if a[n_]==1:\n",
    "            if s[-1]==1 or s[-2]==1:\n",
    "                move = 0\n",
    "            else:\n",
    "                move = 1\n",
    "                score+=1\n",
    "        if a[n_]==0:\n",
    "            if s[-1]==0 or s[-2]==0:\n",
    "                move = 1\n",
    "            else:\n",
    "                move = 0\n",
    "    s.append(move)\n",
    "\n",
    "print(score)\n",
    "\n",
    "\n",
    "        "
   ]
  },
  {
   "cell_type": "code",
   "execution_count": 14,
   "metadata": {},
   "outputs": [
    {
     "data": {
      "text/plain": [
       "1"
      ]
     },
     "execution_count": 14,
     "metadata": {},
     "output_type": "execute_result"
    }
   ],
   "source": [
    "move = 0 if a[1]==1 else 1\n",
    "move"
   ]
  },
  {
   "cell_type": "code",
   "execution_count": 30,
   "metadata": {},
   "outputs": [
    {
     "name": "stdout",
     "output_type": "stream",
     "text": [
      "1\n",
      "2.4713149070739746\n"
     ]
    }
   ],
   "source": [
    "# recursion\n",
    "\n",
    "start = time.time()\n",
    "\n",
    "# value if friends turn\n",
    "def v(s):\n",
    "    if len(s)>4:\n",
    "        #1,1,v11\n",
    "        opt_a = s[0]+v(s[2:])\n",
    "        opt_b = s[0]+v(s[3:])\n",
    "        opt_c = s[0]+s[1]+v(s[3:])\n",
    "        opt_d = s[0]+s[1]+v(s[4:])\n",
    "        return min(opt_a,opt_b,opt_c,opt_d)\n",
    "        \n",
    "    if len(s)==4:\n",
    "        opt_a = s[0]+s[2]\n",
    "        opt_b = s[0]+s[3]\n",
    "        opt_c = s[0]+s[1]\n",
    "        return min(opt_a,opt_b,opt_c)\n",
    "    \n",
    "    if len(s)<=3:\n",
    "        return s[0]\n",
    "    \n",
    "print(v(a))\n",
    "\n",
    "print(time.time()-start)\n"
   ]
  },
  {
   "cell_type": "code",
   "execution_count": 6,
   "metadata": {},
   "outputs": [],
   "source": [
    "# brute force\n",
    "# combinatorial explosion\n",
    "\n",
    "def makelist(n):\n",
    "\n",
    "    codes = ['10','100','110','1100']\n",
    "    clist = [x for x in codes]\n",
    "    i = 0\n",
    "\n",
    "    while i<len(clist):\n",
    "\n",
    "        if len(clist[i])<n-1: \n",
    "            base = clist[i]\n",
    "            if len(clist[i])<n-2:\n",
    "                clist.extend([base+'100',base+'110'])\n",
    "            if len(clist[i])<n-3:\n",
    "                clist.extend([base+'1100'])\n",
    "            clist[i]=base+'10'\n",
    "\n",
    "        if len(clist[i])==n-1:\n",
    "            clist[i]=clist[i]+'1'\n",
    "\n",
    "        if len(clist[i])==n:\n",
    "            i+=1\n",
    "\n",
    "    \n",
    "    return(clist)"
   ]
  },
  {
   "cell_type": "code",
   "execution_count": null,
   "metadata": {},
   "outputs": [],
   "source": [
    "2**10"
   ]
  },
  {
   "cell_type": "code",
   "execution_count": 8,
   "metadata": {},
   "outputs": [
    {
     "name": "stdout",
     "output_type": "stream",
     "text": [
      "10 72\n",
      "20 8855\n",
      "30 1089155\n",
      "33 4613733\n"
     ]
    }
   ],
   "source": [
    "for n in [10,20,30,33]:\n",
    "    print(n,len(makelist(n)))"
   ]
  },
  {
   "cell_type": "code",
   "execution_count": 10,
   "metadata": {},
   "outputs": [
    {
     "data": {
      "text/plain": [
       "0"
      ]
     },
     "execution_count": 10,
     "metadata": {},
     "output_type": "execute_result"
    }
   ],
   "source": [
    "z = [0]\n",
    "v(z)"
   ]
  },
  {
   "cell_type": "code",
   "execution_count": 163,
   "metadata": {},
   "outputs": [],
   "source": [
    "import random\n",
    "import time\n",
    "n=100000\n",
    "k=30000\n",
    "s=''\n",
    "for n_ in range(n):\n",
    "    s+=random.choice(['W','L'])"
   ]
  },
  {
   "cell_type": "code",
   "execution_count": 184,
   "metadata": {},
   "outputs": [
    {
     "name": "stdout",
     "output_type": "stream",
     "text": [
      "2 [1] 1 2\n",
      "7\n",
      "0.000946044921875\n"
     ]
    }
   ],
   "source": [
    "n = 5\n",
    "k = 2\n",
    "s='WLWLL'\n",
    "\n",
    "\n",
    "start = time.time()\n",
    "\n",
    "gaps = [len(x) for x in s.split('W') if len(x)>0]\n",
    "runs = [len(x) for x in s.split('L') if len(x)>0]\n",
    "\n",
    "# trim ends\n",
    "ends = 0\n",
    "if s[0]=='L':\n",
    "    ends+=gaps[0]\n",
    "    del gaps[0]\n",
    "if s[-1]=='L' and len(gaps)>0:\n",
    "    ends+=gaps[-1]\n",
    "    del gaps[-1]\n",
    "\n",
    "gaps.sort()\n",
    "\n",
    "print(k,gaps,len(gaps),ends)\n",
    "\n",
    "i=0\n",
    "while k>0 and i<len(gaps):\n",
    "    if gaps[i]<=k:\n",
    "        k-=gaps[i]\n",
    "        gaps[i] = 0\n",
    "        i+=1\n",
    "    else:\n",
    "        gaps[i]-=k\n",
    "        k=0\n",
    "    \n",
    "new_gaps = [g for g in gaps if g>0]\n",
    "\n",
    "        \n",
    "if k>0 and ends>0:\n",
    "    if ends>=k:\n",
    "        ends-=k\n",
    "    else:\n",
    "        ends=0\n",
    "\n",
    "score = (n-sum(new_gaps)-ends)*2 - (len(new_gaps)+1)\n",
    "score = max(score,0)\n",
    "print(score)\n",
    "\n",
    "print(time.time()-start)"
   ]
  },
  {
   "cell_type": "code",
   "execution_count": 160,
   "metadata": {},
   "outputs": [
    {
     "data": {
      "text/plain": [
       "([3, 3], [], 15, 6)"
      ]
     },
     "execution_count": 160,
     "metadata": {},
     "output_type": "execute_result"
    }
   ],
   "source": [
    "gaps, new_gaps, n, sum(gaps)"
   ]
  },
  {
   "cell_type": "code",
   "execution_count": 141,
   "metadata": {},
   "outputs": [
    {
     "name": "stdout",
     "output_type": "stream",
     "text": [
      "0.0197598934173584\n",
      "1000 0.46428799629211426\n",
      "2000 0.8875889778137207\n",
      "3000 1.3000199794769287\n",
      "4000 1.720839023590088\n",
      "5000 2.1294329166412354\n",
      "6000 2.5290958881378174\n",
      "7000 2.9215469360351562\n",
      "8000 3.307717800140381\n",
      "9000 3.6851089000701904\n",
      "10000 4.0760650634765625\n",
      "11000 4.458066940307617\n",
      "12000 4.824569940567017\n",
      "13000 5.113066911697388\n",
      "14000 5.320879936218262\n",
      "15000 5.527119874954224\n",
      "16000 5.720027923583984\n",
      "17000 5.914639949798584\n",
      "18000 6.092375993728638\n",
      "19000 6.255192756652832\n",
      "20000 6.355323791503906\n",
      "0\n",
      "6.395260810852051\n"
     ]
    }
   ],
   "source": [
    "start = time.time()\n",
    "\n",
    "\n",
    "gaps = [len(x) for x in s.split('W') if len(x)>0]\n",
    "runs = [len(x) for x in s.split('L') if len(x)>0]\n",
    "\n",
    "# trim ends\n",
    "ends = 0\n",
    "if s[0]=='L':\n",
    "    ends+=gaps[0]\n",
    "    del gaps[0]\n",
    "if s[-1]=='L' and len(gaps)>0:\n",
    "    ends+=gaps[-1]\n",
    "    del gaps[-1]\n",
    "if len(runs)==0:\n",
    "    runs.append(0)\n",
    "\n",
    "print(time.time()-start)\n",
    "    \n",
    "# add wins\n",
    "it = 0\n",
    "while k>0 and len(gaps)>0:\n",
    "    it+=1\n",
    "    if it%1000==0:\n",
    "        print(it,time.time()-start)\n",
    "    min_gap = min(gaps)\n",
    "    index = gaps.index(min_gap)\n",
    "\n",
    "    if k>=min_gap:\n",
    "        del gaps[index]\n",
    "        runs[index+1]+=runs[index]+min_gap\n",
    "        del runs[index]\n",
    "        k-=min_gap\n",
    "\n",
    "    else:\n",
    "        runs[index]+=k\n",
    "        gaps[index]-=k\n",
    "        k=0\n",
    "\n",
    "if k>0 and ends>0:\n",
    "    runs[0]+=min(k,ends)\n",
    "    \n",
    "        \n",
    "score = sum(runs)*max(2-len(runs),0)\n",
    "print(score)\n",
    "print(time.time()-start)"
   ]
  },
  {
   "cell_type": "code",
   "execution_count": 117,
   "metadata": {},
   "outputs": [
    {
     "data": {
      "text/plain": [
       "[1]"
      ]
     },
     "execution_count": 117,
     "metadata": {},
     "output_type": "execute_result"
    }
   ],
   "source": [
    "runs"
   ]
  },
  {
   "cell_type": "code",
   "execution_count": 76,
   "metadata": {},
   "outputs": [
    {
     "name": "stdout",
     "output_type": "stream",
     "text": [
      "editing (0, 7)\n",
      "new runs [3, 3, 1, 1, 3, 1, 1, 1, 1, 3, 2]\n",
      "editing (0, 6)\n",
      "new runs [7, 1, 1, 3, 1, 1, 1, 1, 3, 2]\n",
      "editing (0, 5)\n",
      "new runs [9, 1, 3, 1, 1, 1, 1, 3, 2]\n",
      "editing (1, 4)\n",
      "new runs [9, 5, 1, 1, 1, 1, 3, 2]\n",
      "editing (1, 3)\n",
      "new runs [9, 7, 1, 1, 1, 3, 2]\n",
      "editing (5, 2)\n",
      "new runs [9, 7, 1, 1, 1, 6]\n"
     ]
    }
   ],
   "source": [
    "\n",
    "\n",
    "    \n",
    "# add wins\n",
    "while k>0:\n",
    "    min_gap = min(gaps)\n",
    "    index = gaps.index(min_gap)\n",
    "    \n",
    "    if k>=min_gap:\n",
    "        print(f'editing {index,k}')\n",
    "        del gaps[index]\n",
    "        runs[index+1]+=runs[index]+1\n",
    "        del runs[index]\n",
    "        k-=min_gap\n",
    "        print(f'new runs {runs}')\n",
    "    \n",
    "    else:\n",
    "        runs[index]+=k\n",
    "        gaps[index]-=k\n",
    "        k=0\n",
    "    "
   ]
  },
  {
   "cell_type": "code",
   "execution_count": 77,
   "metadata": {},
   "outputs": [
    {
     "data": {
      "text/plain": [
       "([10, 7, 1, 1, 1, 6], [1, 2, 2, 4, 2, 3], 6, 6)"
      ]
     },
     "execution_count": 77,
     "metadata": {},
     "output_type": "execute_result"
    }
   ],
   "source": [
    "runs,gaps,len(runs),len(gaps)\n"
   ]
  },
  {
   "cell_type": "code",
   "execution_count": 78,
   "metadata": {},
   "outputs": [
    {
     "data": {
      "text/plain": [
       "46"
      ]
     },
     "execution_count": 78,
     "metadata": {},
     "output_type": "execute_result"
    }
   ],
   "source": [
    "sum(runs)*2-len(runs)"
   ]
  },
  {
   "cell_type": "code",
   "execution_count": 31,
   "metadata": {},
   "outputs": [
    {
     "data": {
      "text/plain": [
       "'WLWLWWWLWLLWLWWWLWLLWLLWLLLLWLLWWWLWWLLL'"
      ]
     },
     "execution_count": 31,
     "metadata": {},
     "output_type": "execute_result"
    }
   ],
   "source": [
    "# left shift\n",
    "i=0\n",
    "while s[i]=='L':\n",
    "    i+=1\n",
    "s_ = s[i:] + s[:i]\n",
    "s_"
   ]
  },
  {
   "cell_type": "code",
   "execution_count": 30,
   "metadata": {},
   "outputs": [
    {
     "name": "stdout",
     "output_type": "stream",
     "text": [
      "26\n"
     ]
    }
   ],
   "source": [
    "score = 0\n",
    "for n_ in range(n):\n",
    "    if s[n_]=='W':\n",
    "        score+=1\n",
    "        if n_>0 and s[n_-1]=='W':\n",
    "            score+=1\n",
    "print(score)"
   ]
  },
  {
   "cell_type": "code",
   "execution_count": 32,
   "metadata": {},
   "outputs": [],
   "source": [
    "gaps = [len(x) for x in s_.split('W') if len(x)>0]\n",
    "runs = [len(x) for x in s_.split('L') if len(x)>0]"
   ]
  },
  {
   "cell_type": "code",
   "execution_count": 33,
   "metadata": {},
   "outputs": [
    {
     "data": {
      "text/plain": [
       "([1, 1, 1, 2, 1, 1, 2, 2, 4, 2, 1, 3], [1, 1, 3, 1, 1, 3, 1, 1, 1, 1, 3, 2])"
      ]
     },
     "execution_count": 33,
     "metadata": {},
     "output_type": "execute_result"
    }
   ],
   "source": [
    "gaps,runs"
   ]
  },
  {
   "cell_type": "code",
   "execution_count": 18,
   "metadata": {},
   "outputs": [
    {
     "data": {
      "text/plain": [
       "29"
      ]
     },
     "execution_count": 18,
     "metadata": {},
     "output_type": "execute_result"
    }
   ],
   "source": [
    "sum(runs)*2-len(runs)"
   ]
  },
  {
   "cell_type": "code",
   "execution_count": 34,
   "metadata": {},
   "outputs": [
    {
     "data": {
      "text/plain": [
       "(12, 12)"
      ]
     },
     "execution_count": 34,
     "metadata": {},
     "output_type": "execute_result"
    }
   ],
   "source": [
    "len(runs),len(gaps)"
   ]
  },
  {
   "cell_type": "code",
   "execution_count": 359,
   "metadata": {},
   "outputs": [
    {
     "data": {
      "text/plain": [
       "[1, 1, 1, 1, 1, 1, 1, 2, 2, 2, 2, 2, 4]"
      ]
     },
     "execution_count": 359,
     "metadata": {},
     "output_type": "execute_result"
    }
   ],
   "source": [
    "gaps.sort()\n",
    "gaps"
   ]
  },
  {
   "cell_type": "code",
   "execution_count": 372,
   "metadata": {},
   "outputs": [
    {
     "data": {
      "text/plain": [
       "47"
      ]
     },
     "execution_count": 372,
     "metadata": {},
     "output_type": "execute_result"
    }
   ],
   "source": [
    "score = 2*n - 2*sum(gaps) - len(gaps) + 1\n",
    "score"
   ]
  },
  {
   "cell_type": "code",
   "execution_count": 370,
   "metadata": {},
   "outputs": [],
   "source": [
    "k = 7\n",
    "while k>0:\n",
    "    if gaps[0]<=k:\n",
    "        del gaps[0:1]\n",
    "        k-=gaps[0]\n",
    "    else:\n",
    "        gaps[0]-=k\n",
    "    "
   ]
  },
  {
   "cell_type": "code",
   "execution_count": 371,
   "metadata": {},
   "outputs": [
    {
     "data": {
      "text/plain": [
       "[2, 2, 2, 2, 2, 4]"
      ]
     },
     "execution_count": 371,
     "metadata": {},
     "output_type": "execute_result"
    }
   ],
   "source": [
    "gaps"
   ]
  },
  {
   "cell_type": "code",
   "execution_count": 262,
   "metadata": {},
   "outputs": [],
   "source": [
    "n = 5\n",
    "s = (0,0)\n",
    "e = (4,4)\n",
    "grid = [[0,0,0,0,1],[1,1,1,1,1],[0,0,1,1,1],[0,0,1,1,0],[0,0,1,1,0]]"
   ]
  },
  {
   "cell_type": "code",
   "execution_count": 339,
   "metadata": {},
   "outputs": [],
   "source": [
    "n=50\n",
    "s = (48,48)\n",
    "e = (2,2)\n",
    "line = [0 for i in range(n)]\n",
    "grid = [line.copy() for i in range(n)]"
   ]
  },
  {
   "cell_type": "code",
   "execution_count": null,
   "metadata": {},
   "outputs": [],
   "source": []
  },
  {
   "cell_type": "code",
   "execution_count": 340,
   "metadata": {},
   "outputs": [
    {
     "data": {
      "text/plain": [
       "True"
      ]
     },
     "execution_count": 340,
     "metadata": {},
     "output_type": "execute_result"
    }
   ],
   "source": [
    "(1,1)==(1,1)"
   ]
  },
  {
   "cell_type": "code",
   "execution_count": 341,
   "metadata": {},
   "outputs": [
    {
     "name": "stdout",
     "output_type": "stream",
     "text": [
      "100 0.0005779266357421875\n",
      "200 0.001004934310913086\n",
      "300 0.0012118816375732422\n",
      "400 0.0014178752899169922\n",
      "500 0.00162506103515625\n",
      "600 0.0018329620361328125\n",
      "700 0.0020589828491210938\n",
      "800 0.0022819042205810547\n",
      "900 0.002749919891357422\n",
      "1000 0.0030279159545898438\n",
      "1100 0.0032448768615722656\n",
      "1200 0.003454923629760742\n",
      "1300 0.0036630630493164062\n",
      "1400 0.003874063491821289\n",
      "1500 0.004082918167114258\n",
      "1600 0.004289865493774414\n",
      "1700 0.004496097564697266\n",
      "1800 0.004703998565673828\n",
      "1900 0.004914760589599609\n",
      "2000 0.005263090133666992\n",
      "2100 0.005517005920410156\n",
      "2200 0.005745887756347656\n",
      "2300 0.005961894989013672\n",
      "2400 0.006150007247924805\n",
      "0\n",
      "time 0.006485939025878906\n"
     ]
    }
   ],
   "source": [
    "# algo:\n",
    "# 1. label each land mass\n",
    "\n",
    "start = time.time()\n",
    "\n",
    "g = []\n",
    "g.append(s)\n",
    "found = False\n",
    "\n",
    "iter = 0\n",
    "\n",
    "while len(g)>0:\n",
    "    iter+=1\n",
    "    if iter%100==0:\n",
    "        print(iter,time.time()-start)\n",
    "    x,y = g[0]\n",
    "    \n",
    "    if (x,y)==e:\n",
    "        print(0)\n",
    "        found = True\n",
    "        break\n",
    "    \n",
    "    grid[x][y]=2\n",
    "\n",
    "    if x>0:\n",
    "        if grid[x-1][y]==0:\n",
    "            grid[x-1][y]=2\n",
    "            g.append((x-1,y))\n",
    "    if y>0:\n",
    "        if grid[x][y-1]==0:\n",
    "            grid[x][y-1]=2\n",
    "            g.append((x,y-1))\n",
    "    if x<n-1:\n",
    "        if grid[x+1][y]==0:\n",
    "            grid[x+1][y]=2\n",
    "            g.append((x+1,y))\n",
    "    if y<n-1:\n",
    "        if grid[x][y+1]==0:\n",
    "            grid[x][y+1]=2\n",
    "            g.append((x,y+1))\n",
    "            \n",
    "    g.remove(g[0])\n",
    "\n",
    "print(f'time {time.time()-start}')"
   ]
  },
  {
   "cell_type": "code",
   "execution_count": 331,
   "metadata": {},
   "outputs": [
    {
     "data": {
      "text/plain": [
       "87"
      ]
     },
     "execution_count": 331,
     "metadata": {},
     "output_type": "execute_result"
    }
   ],
   "source": [
    "len(g)"
   ]
  },
  {
   "cell_type": "code",
   "execution_count": 238,
   "metadata": {},
   "outputs": [
    {
     "name": "stdout",
     "output_type": "stream",
     "text": [
      "0 3 0 4 25\n",
      "0 3 1 4 18\n",
      "0 3 2 4 13\n",
      "0 3 3 4 10\n",
      "10\n"
     ]
    }
   ],
   "source": [
    "\n",
    "if found == False:\n",
    "\n",
    "    x,y = e\n",
    "    nearest = 100000\n",
    "\n",
    "    g = []\n",
    "    g.append(e)\n",
    "\n",
    "    while len(g)>0:\n",
    "        x,y = g[0]\n",
    "        grid[x][y]=3\n",
    "\n",
    "        for x_ in range(n):\n",
    "            for y_ in range(n):\n",
    "                if grid[x_][y_] == 2:\n",
    "\n",
    "                    dist = (x-x_)**2 + (y-y_)**2\n",
    "\n",
    "                    if dist<nearest:\n",
    "                        print(x,x_,y,y_,dist)\n",
    "                        nearest=dist\n",
    "\n",
    "\n",
    "        if x>0:\n",
    "            if grid[x-1][y]==0:\n",
    "                g.append((x-1,y))\n",
    "        if y>0:\n",
    "            if grid[x][y-1]==0:\n",
    "                g.append((x,y-1))\n",
    "        if x<n-1:\n",
    "            if grid[x+1][y]==0:\n",
    "                g.append((x+1,y))\n",
    "        if y<n-1:\n",
    "            if grid[x][y+1]==0:\n",
    "                g.append((x,y+1))\n",
    "\n",
    "        g.remove(g[0])\n",
    "\n",
    "    print(nearest)"
   ]
  },
  {
   "cell_type": "code",
   "execution_count": null,
   "metadata": {},
   "outputs": [],
   "source": [
    "5\n",
    "5\n",
    "1 2 3 4 5\n",
    "8\n",
    "6 6 6 6 6 6 8 8\n",
    "8\n",
    "1 2 2 1 2 1 1 2\n",
    "3\n",
    "1 3 3\n",
    "6\n",
    "1 1 3 4 2 2\n"
   ]
  },
  {
   "cell_type": "code",
   "execution_count": 191,
   "metadata": {},
   "outputs": [
    {
     "data": {
      "text/plain": [
       "'50 50 50 50 50 50 50 50 50 50 50 50 50 50 50 50 50 50 50 50 50 50 50 50 50 50 50 50 50 50 50 50 50 50 50 50 50 50 50 50 50 50 50 50 50 50 50 50 50 50 '"
      ]
     },
     "execution_count": 191,
     "metadata": {},
     "output_type": "execute_result"
    }
   ],
   "source": [
    "inp = ''\n",
    "for i in range(50):\n",
    "    inp = inp + str(50) + ' '\n",
    "inp"
   ]
  },
  {
   "cell_type": "code",
   "execution_count": 181,
   "metadata": {},
   "outputs": [],
   "source": [
    "#n = 3\n",
    "#inp = '6 6 6 6 6 8 8'\n",
    "ws = [int(i) for i in inp.split()]\n",
    "n = len(ws)"
   ]
  },
  {
   "cell_type": "code",
   "execution_count": 182,
   "metadata": {},
   "outputs": [
    {
     "data": {
      "text/plain": [
       "50"
      ]
     },
     "execution_count": 182,
     "metadata": {},
     "output_type": "execute_result"
    }
   ],
   "source": [
    "n"
   ]
  },
  {
   "cell_type": "code",
   "execution_count": 194,
   "metadata": {},
   "outputs": [
    {
     "name": "stdout",
     "output_type": "stream",
     "text": [
      "25 1.4111995697021484\n"
     ]
    }
   ],
   "source": [
    "import time\n",
    "# brute force\n",
    "\n",
    "def countpairs(s):\n",
    "    \n",
    "    w = ws.copy()\n",
    "    \n",
    "    pairs = 0\n",
    "    while len(w)>1:\n",
    "\n",
    "        a = w[0]\n",
    "        target = s-w[0]\n",
    "        w.remove(a)\n",
    "        if target in w:\n",
    "            pairs += 1\n",
    "            w.remove(target)\n",
    "            #print(a,target,w)\n",
    "            \n",
    "    return pairs\n",
    "\n",
    "start_time = time.time()\n",
    "\n",
    "s_max = max(ws)*2+1\n",
    "max_pairs = 0\n",
    "\n",
    "for s in range(s_max):\n",
    "    p = countpairs(s)\n",
    "    if p>max_pairs:\n",
    "        max_pairs=p\n",
    "    if max_pairs == int(n/2):\n",
    "        break\n",
    "\n",
    "end_time = time.time()\n",
    "    \n",
    "print(max_pairs, (end_time-start_time)*1000)"
   ]
  },
  {
   "cell_type": "code",
   "execution_count": 125,
   "metadata": {},
   "outputs": [
    {
     "data": {
      "text/plain": [
       "[8]"
      ]
     },
     "execution_count": 125,
     "metadata": {},
     "output_type": "execute_result"
    }
   ],
   "source": [
    "ws"
   ]
  },
  {
   "cell_type": "code",
   "execution_count": 115,
   "metadata": {},
   "outputs": [
    {
     "data": {
      "text/plain": [
       "5"
      ]
     },
     "execution_count": 115,
     "metadata": {},
     "output_type": "execute_result"
    }
   ],
   "source": [
    "max(w)"
   ]
  },
  {
   "cell_type": "code",
   "execution_count": 77,
   "metadata": {},
   "outputs": [
    {
     "data": {
      "text/plain": [
       "['10', '1', '100', '100']"
      ]
     },
     "execution_count": 77,
     "metadata": {},
     "output_type": "execute_result"
    }
   ],
   "source": [
    "input = '10 1\\n100 100\\n'\n",
    "input.split()"
   ]
  },
  {
   "cell_type": "code",
   "execution_count": 74,
   "metadata": {},
   "outputs": [],
   "source": [
    "#input = '2 2\\n1 99\\n100 0\\n'\n",
    "#input = '2 2\\n1 89\\n100 0\\n'\n",
    "input = '10 1\\n100 100\\n'\n",
    "i = input.split()\n",
    "s = int(i[0])\n",
    "n = int(i[1])\n",
    "s,n\n",
    "d = []\n",
    "for n_ in range(n):\n",
    "    d.append((int(i[n_*2+2]),int(i[n_*2+3])))\n",
    "d_sorted = sorted(d,key=lambda x:x[1], reverse=True)\n",
    "\n",
    "dragon = 0\n",
    "\n",
    "while len(d_sorted)>0 and dragon<len(d_sorted):\n",
    "\n",
    "    if d_sorted[dragon][0]<s:\n",
    "        s+=d_sorted[dragon][1]\n",
    "        d_sorted.remove(d_sorted[dragon])\n",
    "        dragon=0\n",
    "    else:\n",
    "        dragon+=1\n",
    "        \n",
    "if len(d_sorted)==0:\n",
    "    print('YES')\n",
    "else:\n",
    "    print('NO')\n",
    "    \n",
    "    "
   ]
  },
  {
   "cell_type": "code",
   "execution_count": 89,
   "metadata": {},
   "outputs": [
    {
     "data": {
      "text/plain": [
       "41664916690999888"
      ]
     },
     "execution_count": 89,
     "metadata": {},
     "output_type": "execute_result"
    }
   ],
   "source": [
    "n = 499993\n",
    "s = int((n-1)/2)\n",
    "total = 0\n",
    "\n",
    "for x in range(1,s+1):\n",
    "    total += x*(8*x)    \n",
    "total\n"
   ]
  },
  {
   "cell_type": "code",
   "execution_count": 75,
   "metadata": {},
   "outputs": [
    {
     "data": {
      "text/plain": [
       "[(100, 100)]"
      ]
     },
     "execution_count": 75,
     "metadata": {},
     "output_type": "execute_result"
    }
   ],
   "source": [
    "d_sorted"
   ]
  },
  {
   "cell_type": "code",
   "execution_count": 76,
   "metadata": {},
   "outputs": [
    {
     "name": "stdout",
     "output_type": "stream",
     "text": [
      "NO\n"
     ]
    }
   ],
   "source": [
    "dragon = 0\n",
    "\n",
    "while len(d_sorted)>0 and dragon<len(d_sorted):\n",
    "\n",
    "    if d_sorted[dragon][0]<s:\n",
    "        s+=d_sorted[dragon][1]\n",
    "        d_sorted.remove(d_sorted[dragon])\n",
    "        dragon=0\n",
    "    else:\n",
    "        dragon+=1\n",
    "        \n",
    "if len(d_sorted)==0:\n",
    "    print('YES')\n",
    "else:\n",
    "    print('NO')"
   ]
  },
  {
   "cell_type": "code",
   "execution_count": 69,
   "metadata": {},
   "outputs": [
    {
     "name": "stdout",
     "output_type": "stream",
     "text": [
      "NO\n"
     ]
    }
   ],
   "source": [
    "complete = True\n",
    "while len(d_sorted)>0:\n",
    "    dragon = 0\n",
    "    if d_sorted[dragon][0]<s:\n",
    "        s+=d_sorted[dragon][1]\n",
    "        d_sorted.remove(d_sorted[dragon])\n",
    "    else:\n",
    "        dragon+=1\n",
    "    if dragon>=len(d_sorted):\n",
    "        complete = False\n",
    "        break\n",
    "if complete == True:\n",
    "    print('YES')\n",
    "else:\n",
    "    print('NO')"
   ]
  },
  {
   "cell_type": "code",
   "execution_count": 57,
   "metadata": {},
   "outputs": [
    {
     "data": {
      "text/plain": [
       "0"
      ]
     },
     "execution_count": 57,
     "metadata": {},
     "output_type": "execute_result"
    }
   ],
   "source": [
    "len(d_sorted)"
   ]
  },
  {
   "cell_type": "code",
   "execution_count": 8,
   "metadata": {},
   "outputs": [
    {
     "data": {
      "text/plain": [
       "2"
      ]
     },
     "execution_count": 8,
     "metadata": {},
     "output_type": "execute_result"
    }
   ],
   "source": [
    "# algo\n",
    "# order by largest gain\n",
    "# go through and find first one can fight\n",
    "# if do all list - yes, if not - no\n",
    "\n"
   ]
  },
  {
   "cell_type": "code",
   "execution_count": 34,
   "metadata": {},
   "outputs": [],
   "source": [
    "d.remove((1,99,98))"
   ]
  },
  {
   "cell_type": "code",
   "execution_count": 35,
   "metadata": {},
   "outputs": [
    {
     "data": {
      "text/plain": [
       "[(100, 0, -100)]"
      ]
     },
     "execution_count": 35,
     "metadata": {},
     "output_type": "execute_result"
    }
   ],
   "source": [
    "d"
   ]
  },
  {
   "cell_type": "code",
   "execution_count": null,
   "metadata": {},
   "outputs": [],
   "source": []
  }
 ],
 "metadata": {
  "kernelspec": {
   "display_name": "Python 3",
   "language": "python",
   "name": "python3"
  },
  "language_info": {
   "codemirror_mode": {
    "name": "ipython",
    "version": 3
   },
   "file_extension": ".py",
   "mimetype": "text/x-python",
   "name": "python",
   "nbconvert_exporter": "python",
   "pygments_lexer": "ipython3",
   "version": "3.8.3"
  }
 },
 "nbformat": 4,
 "nbformat_minor": 4
}
